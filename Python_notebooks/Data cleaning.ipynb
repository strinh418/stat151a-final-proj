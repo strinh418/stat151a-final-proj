{
 "cells": [
  {
   "cell_type": "code",
   "execution_count": 1,
   "id": "28259dd7",
   "metadata": {},
   "outputs": [],
   "source": [
    "import pandas as pd\n",
    "import glob"
   ]
  },
  {
   "cell_type": "code",
   "execution_count": 2,
   "id": "7bc5e7f1",
   "metadata": {},
   "outputs": [],
   "source": [
    "cleaned_fnames = sorted(glob.glob(\"../*cleaned.csv\"))\n",
    "cleaned_fnames = cleaned_fnames[1:]"
   ]
  },
  {
   "cell_type": "code",
   "execution_count": 3,
   "id": "ddbb0f65",
   "metadata": {},
   "outputs": [
    {
     "data": {
      "text/plain": [
       "['..\\\\london_cleaned.csv',\n",
       " '..\\\\seoul_cleaned.csv',\n",
       " '..\\\\washington_cleaned.csv']"
      ]
     },
     "execution_count": 3,
     "metadata": {},
     "output_type": "execute_result"
    }
   ],
   "source": [
    "cleaned_fnames"
   ]
  },
  {
   "cell_type": "code",
   "execution_count": 4,
   "id": "2590d1c8",
   "metadata": {},
   "outputs": [],
   "source": [
    "data = [pd.read_csv(fname, index_col=False) for fname in cleaned_fnames]\n",
    "data = [df[df.columns[1:]] for df in data]\n",
    "locations = ['london', 'seoul', 'washington_dc']\n",
    "for i, df in enumerate(data):\n",
    "    if i == 1:\n",
    "        df['date'] = pd.to_datetime(df.date, dayfirst=True)\n",
    "    else:\n",
    "        df['date'] = pd.to_datetime(df.date)\n",
    "    df['year'] = df.date.dt.year\n",
    "    df['month'] = df.date.dt.month  \n",
    "    df['day'] = df.date.dt.day\n",
    "    if 'hr' not in df.columns:\n",
    "        df['hr'] = df.date.dt.hour\n",
    "    df['location'] = locations[i]\n",
    "    df['date'] = pd.to_datetime(df.date).dt.date\n",
    "\n",
    "data[1].season = ['fall' if s == 'autumn' else s for s in data[1].season]"
   ]
  },
  {
   "cell_type": "code",
   "execution_count": 5,
   "id": "732e6733",
   "metadata": {},
   "outputs": [
    {
     "name": "stdout",
     "output_type": "stream",
     "text": [
      "london spring [3 4 5]\n",
      "london summer [6 7 8]\n",
      "london fall [ 9 10 11]\n",
      "london winter [ 1  2 12]\n",
      "seoul spring [3 4 5]\n",
      "seoul summer [6 7 8]\n",
      "seoul fall [ 9 10 11]\n",
      "seoul winter [12  1  2]\n",
      "washington_dc spring [ 1  2  3 12]\n",
      "washington_dc summer [3 4 5 6]\n",
      "washington_dc fall [6 7 8 9]\n",
      "washington_dc winter [ 9 10 11 12]\n"
     ]
    }
   ],
   "source": [
    "for i in range(3):\n",
    "    seasons = 'spring,summer,fall,winter'.split(',')\n",
    "    for s in seasons:\n",
    "        print(locations[i], s,  data[i][data[i].season == s].month.unique())"
   ]
  },
  {
   "cell_type": "code",
   "execution_count": 6,
   "id": "d0154bf0",
   "metadata": {},
   "outputs": [],
   "source": [
    "washington_seasons = []\n",
    "for i in data[2].month:\n",
    "    if i in [3,4,5]:\n",
    "        washington_seasons.append('spring')\n",
    "    elif i in [6,7,8]:\n",
    "        washington_seasons.append('summer')\n",
    "    elif i in [9,10,11]:\n",
    "        washington_seasons.append('fall')\n",
    "    else:\n",
    "        washington_seasons.append('winter')\n",
    "        \n",
    "data[2].season = washington_seasons"
   ]
  },
  {
   "cell_type": "code",
   "execution_count": 7,
   "id": "223bad0b",
   "metadata": {},
   "outputs": [],
   "source": [
    "joined_df = pd.concat(data)\n",
    "joined_df.date = pd.to_datetime(joined_df.date)\n",
    "joined_df['day_of_week'] = joined_df.date.dt.dayofweek\n",
    "joined_df['is_weekend'] = 1*(joined_df.day_of_week >= 5)\n",
    "joined_df.head()\n",
    "\n",
    "joined_df.to_csv('../combined_dataset_cleaned.csv', index=False)"
   ]
  },
  {
   "cell_type": "code",
   "execution_count": null,
   "id": "9292b856",
   "metadata": {},
   "outputs": [],
   "source": []
  }
 ],
 "metadata": {
  "kernelspec": {
   "display_name": "Python 3 (ipykernel)",
   "language": "python",
   "name": "python3"
  },
  "language_info": {
   "codemirror_mode": {
    "name": "ipython",
    "version": 3
   },
   "file_extension": ".py",
   "mimetype": "text/x-python",
   "name": "python",
   "nbconvert_exporter": "python",
   "pygments_lexer": "ipython3",
   "version": "3.9.7"
  }
 },
 "nbformat": 4,
 "nbformat_minor": 5
}
